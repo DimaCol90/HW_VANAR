{
 "cells": [
  {
   "cell_type": "code",
   "execution_count": 9,
   "metadata": {},
   "outputs": [],
   "source": [
    "def hi(lang,name):\n",
    "    if lang ==\"en\":\n",
    "        print(f\"Hello, {name}\")\n",
    "    elif lang==\"ro\":\n",
    "        print(f\"salut, {name}\")\n",
    "    elif lang==\"ru\":\n",
    "        print(f\"Привет, {name}\")\n",
    "\n",
    "\n",
    "#HW1\n",
    "        #add second parameter - name "
   ]
  },
  {
   "cell_type": "code",
   "execution_count": 10,
   "metadata": {},
   "outputs": [
    {
     "name": "stdout",
     "output_type": "stream",
     "text": [
      "Hello, John\n",
      "salut, Ion\n",
      "priv, Леонид\n"
     ]
    }
   ],
   "source": [
    "hi(\"en\",\"John\")\n",
    "hi(\"ro\",\"Ion\")\n",
    "hi(\"ru\",\"Леонид\")"
   ]
  }
 ],
 "metadata": {
  "kernelspec": {
   "display_name": "Python 3",
   "language": "python",
   "name": "python3"
  },
  "language_info": {
   "codemirror_mode": {
    "name": "ipython",
    "version": 3
   },
   "file_extension": ".py",
   "mimetype": "text/x-python",
   "name": "python",
   "nbconvert_exporter": "python",
   "pygments_lexer": "ipython3",
   "version": "3.11.2"
  }
 },
 "nbformat": 4,
 "nbformat_minor": 2
}
